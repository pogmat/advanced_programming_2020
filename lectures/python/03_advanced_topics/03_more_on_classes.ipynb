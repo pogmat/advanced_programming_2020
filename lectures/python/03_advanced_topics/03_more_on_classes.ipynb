{
 "cells": [
  {
   "cell_type": "markdown",
   "metadata": {},
   "source": [
    "# More on classes\n",
    "### Examples adapted from \"Python Tricks: the book\", Dan Bader"
   ]
  },
  {
   "cell_type": "markdown",
   "metadata": {},
   "source": [
    "## Class and Instance variables"
   ]
  },
  {
   "cell_type": "code",
   "execution_count": null,
   "metadata": {},
   "outputs": [],
   "source": [
    "class Point:\n",
    "    dim = 2  # <--- class variable\n",
    "\n",
    "    def __init__(self, x, y):\n",
    "        self.x = x  # <---instance variable\n",
    "        self.y = y"
   ]
  },
  {
   "cell_type": "code",
   "execution_count": null,
   "metadata": {},
   "outputs": [],
   "source": [
    "p1 = Point(3, 4)\n",
    "p2 = Point(7, 9)\n",
    "print(p1.x, p2.x)"
   ]
  },
  {
   "cell_type": "code",
   "execution_count": null,
   "metadata": {},
   "outputs": [],
   "source": [
    "print(p1.dim, p2.dim)"
   ]
  },
  {
   "cell_type": "code",
   "execution_count": null,
   "metadata": {},
   "outputs": [],
   "source": [
    "p1.dim = 3\n",
    "print(p1.dim, p2.dim, Point.dim)"
   ]
  },
  {
   "cell_type": "code",
   "execution_count": null,
   "metadata": {},
   "outputs": [],
   "source": [
    "Point.dim = 4"
   ]
  },
  {
   "cell_type": "code",
   "execution_count": null,
   "metadata": {},
   "outputs": [],
   "source": [
    "print(p1.dim, p2.dim, Point.dim)"
   ]
  },
  {
   "cell_type": "markdown",
   "metadata": {},
   "source": [
    "## Counted Object"
   ]
  },
  {
   "cell_type": "code",
   "execution_count": null,
   "metadata": {},
   "outputs": [],
   "source": [
    "class CountInstances:\n",
    "    n = 0\n",
    "\n",
    "    def __init__(self):\n",
    "        # self.__class__.n += 1\n",
    "        self.update_class_vars()\n",
    "        \n",
    "    @classmethod\n",
    "    def update_class_vars(cls):\n",
    "        cls.n += 1"
   ]
  },
  {
   "cell_type": "code",
   "execution_count": null,
   "metadata": {},
   "outputs": [],
   "source": [
    "print(CountInstances.n)\n",
    "print(CountInstances().n)\n",
    "print(CountInstances().n)\n",
    "print(CountInstances.n)"
   ]
  },
  {
   "cell_type": "code",
   "execution_count": null,
   "metadata": {},
   "outputs": [],
   "source": [
    "class CountInstances_buggy:\n",
    "    n = 0\n",
    "\n",
    "    def __init__(self):\n",
    "        self.n += 1 # instance var"
   ]
  },
  {
   "cell_type": "code",
   "execution_count": null,
   "metadata": {},
   "outputs": [],
   "source": [
    "print(CountInstances_buggy.n)"
   ]
  },
  {
   "cell_type": "code",
   "execution_count": null,
   "metadata": {},
   "outputs": [],
   "source": [
    "print(CountInstances_buggy().n)\n",
    "print(CountInstances_buggy().n)"
   ]
  },
  {
   "cell_type": "code",
   "execution_count": null,
   "metadata": {},
   "outputs": [],
   "source": [
    "print(CountInstances_buggy.n)"
   ]
  },
  {
   "cell_type": "markdown",
   "metadata": {},
   "source": [
    "### Instance, class, and static methods"
   ]
  },
  {
   "cell_type": "code",
   "execution_count": null,
   "metadata": {},
   "outputs": [],
   "source": [
    "class MyClass:\n",
    "    def method(self, *args, **kwargs):\n",
    "        \"\"\"useful to modify both instance and class vars\"\"\"\n",
    "        return \"instance method called\", self\n",
    "\n",
    "    @classmethod\n",
    "    def classmethod(cls, *args, **kwargs):\n",
    "        \"\"\"useful to modify just the class vars or create a new instance of cls\"\"\"\n",
    "        return \"class method called\", cls\n",
    "\n",
    "    @staticmethod\n",
    "    def staticmethod(*args, **kwargs):\n",
    "        \"\"\"express the intent to do not modify instance and class vars\"\"\"\n",
    "        return \"static method called\""
   ]
  },
  {
   "cell_type": "code",
   "execution_count": null,
   "metadata": {},
   "outputs": [],
   "source": [
    "obj = MyClass()"
   ]
  },
  {
   "cell_type": "code",
   "execution_count": null,
   "metadata": {},
   "outputs": [],
   "source": [
    "obj.method()"
   ]
  },
  {
   "cell_type": "code",
   "execution_count": null,
   "metadata": {},
   "outputs": [],
   "source": [
    "obj.classmethod()\n",
    "MyClass.classmethod()"
   ]
  },
  {
   "cell_type": "code",
   "execution_count": null,
   "metadata": {},
   "outputs": [],
   "source": [
    "obj.staticmethod()\n",
    "MyClass.staticmethod()"
   ]
  }
 ],
 "metadata": {
  "kernelspec": {
   "display_name": "Python 3",
   "language": "python",
   "name": "python3"
  },
  "language_info": {
   "codemirror_mode": {
    "name": "ipython",
    "version": 3
   },
   "file_extension": ".py",
   "mimetype": "text/x-python",
   "name": "python",
   "nbconvert_exporter": "python",
   "pygments_lexer": "ipython3",
   "version": "3.7.6"
  }
 },
 "nbformat": 4,
 "nbformat_minor": 4
}
